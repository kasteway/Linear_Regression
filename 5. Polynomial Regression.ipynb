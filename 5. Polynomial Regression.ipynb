{
 "cells": [
  {
   "cell_type": "code",
   "execution_count": 55,
   "id": "5acaa111",
   "metadata": {},
   "outputs": [],
   "source": [
    "from sklearn.preprocessing import PolynomialFeatures\n",
    "from sklearn.linear_model import LinearRegression\n",
    "from sklearn.model_selection import train_test_split\n",
    "from sklearn.metrics import mean_absolute_error,mean_squared_error"
   ]
  },
  {
   "cell_type": "code",
   "execution_count": 65,
   "id": "ebc77585",
   "metadata": {},
   "outputs": [],
   "source": [
    "import pandas as pd\n",
    "import numpy as np\n",
    "import matplotlib.pyplot as plt\n",
    "import seaborn as sns\n",
    "\n",
    "%matplotlib inline"
   ]
  },
  {
   "cell_type": "code",
   "execution_count": 4,
   "id": "faa9f47a",
   "metadata": {},
   "outputs": [
    {
     "data": {
      "text/html": [
       "<div>\n",
       "<style scoped>\n",
       "    .dataframe tbody tr th:only-of-type {\n",
       "        vertical-align: middle;\n",
       "    }\n",
       "\n",
       "    .dataframe tbody tr th {\n",
       "        vertical-align: top;\n",
       "    }\n",
       "\n",
       "    .dataframe thead th {\n",
       "        text-align: right;\n",
       "    }\n",
       "</style>\n",
       "<table border=\"1\" class=\"dataframe\">\n",
       "  <thead>\n",
       "    <tr style=\"text-align: right;\">\n",
       "      <th></th>\n",
       "      <th>TV</th>\n",
       "      <th>radio</th>\n",
       "      <th>newspaper</th>\n",
       "      <th>sales</th>\n",
       "    </tr>\n",
       "  </thead>\n",
       "  <tbody>\n",
       "    <tr>\n",
       "      <th>0</th>\n",
       "      <td>230.1</td>\n",
       "      <td>37.8</td>\n",
       "      <td>69.2</td>\n",
       "      <td>22.1</td>\n",
       "    </tr>\n",
       "    <tr>\n",
       "      <th>1</th>\n",
       "      <td>44.5</td>\n",
       "      <td>39.3</td>\n",
       "      <td>45.1</td>\n",
       "      <td>10.4</td>\n",
       "    </tr>\n",
       "    <tr>\n",
       "      <th>2</th>\n",
       "      <td>17.2</td>\n",
       "      <td>45.9</td>\n",
       "      <td>69.3</td>\n",
       "      <td>9.3</td>\n",
       "    </tr>\n",
       "    <tr>\n",
       "      <th>3</th>\n",
       "      <td>151.5</td>\n",
       "      <td>41.3</td>\n",
       "      <td>58.5</td>\n",
       "      <td>18.5</td>\n",
       "    </tr>\n",
       "    <tr>\n",
       "      <th>4</th>\n",
       "      <td>180.8</td>\n",
       "      <td>10.8</td>\n",
       "      <td>58.4</td>\n",
       "      <td>12.9</td>\n",
       "    </tr>\n",
       "  </tbody>\n",
       "</table>\n",
       "</div>"
      ],
      "text/plain": [
       "      TV  radio  newspaper  sales\n",
       "0  230.1   37.8       69.2   22.1\n",
       "1   44.5   39.3       45.1   10.4\n",
       "2   17.2   45.9       69.3    9.3\n",
       "3  151.5   41.3       58.5   18.5\n",
       "4  180.8   10.8       58.4   12.9"
      ]
     },
     "execution_count": 4,
     "metadata": {},
     "output_type": "execute_result"
    }
   ],
   "source": [
    "df = pd.read_csv(\"Advertising.csv\")\n",
    "df.head()"
   ]
  },
  {
   "cell_type": "code",
   "execution_count": 5,
   "id": "9cfc212b",
   "metadata": {},
   "outputs": [
    {
     "data": {
      "text/plain": [
       "(200, 4)"
      ]
     },
     "execution_count": 5,
     "metadata": {},
     "output_type": "execute_result"
    }
   ],
   "source": [
    "df.shape"
   ]
  },
  {
   "cell_type": "code",
   "execution_count": 6,
   "id": "b62bd579",
   "metadata": {},
   "outputs": [
    {
     "name": "stdout",
     "output_type": "stream",
     "text": [
      "<class 'pandas.core.frame.DataFrame'>\n",
      "RangeIndex: 200 entries, 0 to 199\n",
      "Data columns (total 4 columns):\n",
      " #   Column     Non-Null Count  Dtype  \n",
      "---  ------     --------------  -----  \n",
      " 0   TV         200 non-null    float64\n",
      " 1   radio      200 non-null    float64\n",
      " 2   newspaper  200 non-null    float64\n",
      " 3   sales      200 non-null    float64\n",
      "dtypes: float64(4)\n",
      "memory usage: 6.4 KB\n"
     ]
    }
   ],
   "source": [
    "df.info()"
   ]
  },
  {
   "cell_type": "code",
   "execution_count": 7,
   "id": "35e5265e",
   "metadata": {},
   "outputs": [
    {
     "data": {
      "text/html": [
       "<div>\n",
       "<style scoped>\n",
       "    .dataframe tbody tr th:only-of-type {\n",
       "        vertical-align: middle;\n",
       "    }\n",
       "\n",
       "    .dataframe tbody tr th {\n",
       "        vertical-align: top;\n",
       "    }\n",
       "\n",
       "    .dataframe thead th {\n",
       "        text-align: right;\n",
       "    }\n",
       "</style>\n",
       "<table border=\"1\" class=\"dataframe\">\n",
       "  <thead>\n",
       "    <tr style=\"text-align: right;\">\n",
       "      <th></th>\n",
       "      <th>TV</th>\n",
       "      <th>radio</th>\n",
       "      <th>newspaper</th>\n",
       "      <th>sales</th>\n",
       "    </tr>\n",
       "  </thead>\n",
       "  <tbody>\n",
       "    <tr>\n",
       "      <th>count</th>\n",
       "      <td>200.000000</td>\n",
       "      <td>200.000000</td>\n",
       "      <td>200.000000</td>\n",
       "      <td>200.000000</td>\n",
       "    </tr>\n",
       "    <tr>\n",
       "      <th>mean</th>\n",
       "      <td>147.042500</td>\n",
       "      <td>23.264000</td>\n",
       "      <td>30.554000</td>\n",
       "      <td>14.022500</td>\n",
       "    </tr>\n",
       "    <tr>\n",
       "      <th>std</th>\n",
       "      <td>85.854236</td>\n",
       "      <td>14.846809</td>\n",
       "      <td>21.778621</td>\n",
       "      <td>5.217457</td>\n",
       "    </tr>\n",
       "    <tr>\n",
       "      <th>min</th>\n",
       "      <td>0.700000</td>\n",
       "      <td>0.000000</td>\n",
       "      <td>0.300000</td>\n",
       "      <td>1.600000</td>\n",
       "    </tr>\n",
       "    <tr>\n",
       "      <th>25%</th>\n",
       "      <td>74.375000</td>\n",
       "      <td>9.975000</td>\n",
       "      <td>12.750000</td>\n",
       "      <td>10.375000</td>\n",
       "    </tr>\n",
       "    <tr>\n",
       "      <th>50%</th>\n",
       "      <td>149.750000</td>\n",
       "      <td>22.900000</td>\n",
       "      <td>25.750000</td>\n",
       "      <td>12.900000</td>\n",
       "    </tr>\n",
       "    <tr>\n",
       "      <th>75%</th>\n",
       "      <td>218.825000</td>\n",
       "      <td>36.525000</td>\n",
       "      <td>45.100000</td>\n",
       "      <td>17.400000</td>\n",
       "    </tr>\n",
       "    <tr>\n",
       "      <th>max</th>\n",
       "      <td>296.400000</td>\n",
       "      <td>49.600000</td>\n",
       "      <td>114.000000</td>\n",
       "      <td>27.000000</td>\n",
       "    </tr>\n",
       "  </tbody>\n",
       "</table>\n",
       "</div>"
      ],
      "text/plain": [
       "               TV       radio   newspaper       sales\n",
       "count  200.000000  200.000000  200.000000  200.000000\n",
       "mean   147.042500   23.264000   30.554000   14.022500\n",
       "std     85.854236   14.846809   21.778621    5.217457\n",
       "min      0.700000    0.000000    0.300000    1.600000\n",
       "25%     74.375000    9.975000   12.750000   10.375000\n",
       "50%    149.750000   22.900000   25.750000   12.900000\n",
       "75%    218.825000   36.525000   45.100000   17.400000\n",
       "max    296.400000   49.600000  114.000000   27.000000"
      ]
     },
     "execution_count": 7,
     "metadata": {},
     "output_type": "execute_result"
    }
   ],
   "source": [
    "df.describe()"
   ]
  },
  {
   "cell_type": "code",
   "execution_count": 8,
   "id": "14c4ca67",
   "metadata": {},
   "outputs": [
    {
     "data": {
      "image/png": "[encoded data removed]",
      "text/plain": [
       "<Figure size 640x480 with 1 Axes>"
      ]
     },
     "metadata": {},
     "output_type": "display_data"
    }
   ],
   "source": [
    "# Reshaping the DataFrame\n",
    "df_melted = df.melt(var_name='Columns', value_name='Values')\n",
    "\n",
    "# Create a box plot\n",
    "sns.boxplot(x='Columns', y='Values', data=df_melted)\n",
    "\n",
    "# Add title\n",
    "plt.title('Box Plot')\n",
    "\n",
    "# Show plot\n",
    "plt.show()"
   ]
  },
  {
   "cell_type": "code",
   "execution_count": 9,
   "id": "b158db7f",
   "metadata": {},
   "outputs": [
    {
     "data": {
      "image/png": "[encoded data removed]",
      "text/plain": [
       "<Figure size 1000x1000 with 20 Axes>"
      ]
     },
     "metadata": {},
     "output_type": "display_data"
    }
   ],
   "source": [
    "sns.pairplot(df, diag_kind='kde')\n",
    "# Show plot\n",
    "plt.show()"
   ]
  },
  {
   "cell_type": "markdown",
   "id": "3dd33b7a",
   "metadata": {},
   "source": [
    "### Separate the Features & Target variables"
   ]
  },
  {
   "cell_type": "code",
   "execution_count": 10,
   "id": "33e04071",
   "metadata": {},
   "outputs": [],
   "source": [
    "X = df.drop(\"sales\", axis = 1)\n",
    "y = df['sales']"
   ]
  },
  {
   "cell_type": "code",
   "execution_count": null,
   "id": "6b948cdb",
   "metadata": {},
   "outputs": [],
   "source": []
  },
  {
   "cell_type": "markdown",
   "id": "d3603d81",
   "metadata": {},
   "source": [
    "## Creating Polynomial Features\n",
    "#### PolynomialFeatures( )\n",
    "##### Degree -> select the degree transformation desired\n",
    "##### Interaction_only -> Default = False --> Create interaction between the features as new features\n",
    "##### Include_bias -> Default = True --> a column of ones - acts as an intercept term in a linear model"
   ]
  },
  {
   "cell_type": "code",
   "execution_count": 12,
   "id": "169a355b",
   "metadata": {},
   "outputs": [
    {
     "data": {
      "text/plain": [
       "(200, 3)"
      ]
     },
     "execution_count": 12,
     "metadata": {},
     "output_type": "execute_result"
    }
   ],
   "source": [
    "X.shape"
   ]
  },
  {
   "cell_type": "markdown",
   "id": "820d6c0e",
   "metadata": {},
   "source": [
    "#### Creating only interaction terms using PolynomialFeatures"
   ]
  },
  {
   "cell_type": "code",
   "execution_count": 38,
   "id": "83bddb21",
   "metadata": {},
   "outputs": [],
   "source": [
    "polynomial_features_only = PolynomialFeatures(interaction_only = True, include_bias=False)"
   ]
  },
  {
   "cell_type": "code",
   "execution_count": 39,
   "id": "509ea150",
   "metadata": {},
   "outputs": [],
   "source": [
    "poly_features_only = polynomial_features_only.fit_transform(X)"
   ]
  },
  {
   "cell_type": "code",
   "execution_count": 40,
   "id": "67b58caa",
   "metadata": {},
   "outputs": [
    {
     "data": {
      "text/plain": [
       "(200, 6)"
      ]
     },
     "execution_count": 40,
     "metadata": {},
     "output_type": "execute_result"
    }
   ],
   "source": [
    "poly_features_only.shape"
   ]
  },
  {
   "cell_type": "code",
   "execution_count": 41,
   "id": "94cbdeab",
   "metadata": {},
   "outputs": [
    {
     "data": {
      "text/plain": [
       "TV           44.5\n",
       "radio        39.3\n",
       "newspaper    45.1\n",
       "Name: 1, dtype: float64"
      ]
     },
     "execution_count": 41,
     "metadata": {},
     "output_type": "execute_result"
    }
   ],
   "source": [
    "X.iloc[1]"
   ]
  },
  {
   "cell_type": "code",
   "execution_count": 42,
   "id": "2fa0d365",
   "metadata": {},
   "outputs": [
    {
     "data": {
      "text/plain": [
       "array([  44.5 ,   39.3 ,   45.1 , 1748.85, 2006.95, 1772.43])"
      ]
     },
     "execution_count": 42,
     "metadata": {},
     "output_type": "execute_result"
    }
   ],
   "source": [
    "poly_features_only[1]"
   ]
  },
  {
   "cell_type": "code",
   "execution_count": null,
   "id": "5d8e503a",
   "metadata": {},
   "outputs": [],
   "source": []
  },
  {
   "cell_type": "markdown",
   "id": "127097af",
   "metadata": {},
   "source": [
    "#### Interaction Terms Created"
   ]
  },
  {
   "cell_type": "code",
   "execution_count": 43,
   "id": "c42da766",
   "metadata": {},
   "outputs": [
    {
     "data": {
      "text/plain": [
       "1748.85"
      ]
     },
     "execution_count": 43,
     "metadata": {},
     "output_type": "execute_result"
    }
   ],
   "source": [
    "X.TV[1] * X.radio[1]"
   ]
  },
  {
   "cell_type": "code",
   "execution_count": 44,
   "id": "0d601709",
   "metadata": {},
   "outputs": [
    {
     "data": {
      "text/plain": [
       "2006.95"
      ]
     },
     "execution_count": 44,
     "metadata": {},
     "output_type": "execute_result"
    }
   ],
   "source": [
    "X.TV[1] * X.newspaper[1]"
   ]
  },
  {
   "cell_type": "code",
   "execution_count": 45,
   "id": "e0aa3a4d",
   "metadata": {},
   "outputs": [
    {
     "data": {
      "text/plain": [
       "1772.4299999999998"
      ]
     },
     "execution_count": 45,
     "metadata": {},
     "output_type": "execute_result"
    }
   ],
   "source": [
    "X.radio[1] * X.newspaper[1]"
   ]
  },
  {
   "cell_type": "code",
   "execution_count": null,
   "id": "dba114a0",
   "metadata": {},
   "outputs": [],
   "source": []
  },
  {
   "cell_type": "markdown",
   "id": "8805b937",
   "metadata": {},
   "source": [
    "#### Creating PolynomialFeatures with Degree 2 & the interaction Terms"
   ]
  },
  {
   "cell_type": "code",
   "execution_count": 46,
   "id": "36d6fc17",
   "metadata": {},
   "outputs": [],
   "source": [
    "polynomial_features = PolynomialFeatures(degree=2,include_bias=False)"
   ]
  },
  {
   "cell_type": "markdown",
   "id": "31796643",
   "metadata": {},
   "source": [
    "#### Reads in every X columns & \"transforms\" and ouputs the new polynomial data"
   ]
  },
  {
   "cell_type": "code",
   "execution_count": 47,
   "id": "1d33502d",
   "metadata": {},
   "outputs": [],
   "source": [
    "poly_features = polynomial_features.fit_transform(X)"
   ]
  },
  {
   "cell_type": "code",
   "execution_count": 48,
   "id": "77cf50c7",
   "metadata": {},
   "outputs": [
    {
     "data": {
      "text/plain": [
       "(200, 9)"
      ]
     },
     "execution_count": 48,
     "metadata": {},
     "output_type": "execute_result"
    }
   ],
   "source": [
    "poly_features.shape"
   ]
  },
  {
   "cell_type": "code",
   "execution_count": 49,
   "id": "38b4d854",
   "metadata": {},
   "outputs": [
    {
     "data": {
      "text/plain": [
       "array([[ 230.1 ,   37.8 ,   69.2 , ..., 1428.84, 2615.76, 4788.64],\n",
       "       [  44.5 ,   39.3 ,   45.1 , ..., 1544.49, 1772.43, 2034.01],\n",
       "       [  17.2 ,   45.9 ,   69.3 , ..., 2106.81, 3180.87, 4802.49],\n",
       "       ...,\n",
       "       [ 177.  ,    9.3 ,    6.4 , ...,   86.49,   59.52,   40.96],\n",
       "       [ 283.6 ,   42.  ,   66.2 , ..., 1764.  , 2780.4 , 4382.44],\n",
       "       [ 232.1 ,    8.6 ,    8.7 , ...,   73.96,   74.82,   75.69]])"
      ]
     },
     "execution_count": 49,
     "metadata": {},
     "output_type": "execute_result"
    }
   ],
   "source": [
    "poly_features"
   ]
  },
  {
   "cell_type": "markdown",
   "id": "de71bc55",
   "metadata": {},
   "source": [
    "#### 2nd Degree Polynomial creates the following:\n",
    "##### 1. Interaction Terms -> TV * Radio, TV * Newspaper, Radio * Newspaper\n",
    "##### 2. Degree of 2 will square each variable -> TV ** 2, Radio ** 2, Newspaper ** 2"
   ]
  },
  {
   "cell_type": "code",
   "execution_count": 50,
   "id": "2b98b37f",
   "metadata": {},
   "outputs": [
    {
     "data": {
      "text/plain": [
       "TV           44.5\n",
       "radio        39.3\n",
       "newspaper    45.1\n",
       "Name: 1, dtype: float64"
      ]
     },
     "execution_count": 50,
     "metadata": {},
     "output_type": "execute_result"
    }
   ],
   "source": [
    "# Original Data row 1\n",
    "X.iloc[1]"
   ]
  },
  {
   "cell_type": "code",
   "execution_count": 51,
   "id": "bf3f0684",
   "metadata": {},
   "outputs": [
    {
     "data": {
      "text/plain": [
       "array([  44.5 ,   39.3 ,   45.1 , 1980.25, 1748.85, 2006.95, 1544.49,\n",
       "       1772.43, 2034.01])"
      ]
     },
     "execution_count": 51,
     "metadata": {},
     "output_type": "execute_result"
    }
   ],
   "source": [
    "# Results of the Polynomial Features created for row 1\n",
    "poly_features[1]"
   ]
  },
  {
   "cell_type": "code",
   "execution_count": null,
   "id": "1fb37651",
   "metadata": {},
   "outputs": [],
   "source": []
  },
  {
   "cell_type": "markdown",
   "id": "6fd29fc6",
   "metadata": {},
   "source": [
    "### Features Squared"
   ]
  },
  {
   "cell_type": "code",
   "execution_count": 52,
   "id": "f901a1dd",
   "metadata": {},
   "outputs": [
    {
     "data": {
      "text/plain": [
       "array([44.5, 39.3, 45.1])"
      ]
     },
     "execution_count": 52,
     "metadata": {},
     "output_type": "execute_result"
    }
   ],
   "source": [
    "poly_features[1][:3]"
   ]
  },
  {
   "cell_type": "code",
   "execution_count": 53,
   "id": "b20bc5fa",
   "metadata": {
    "scrolled": true
   },
   "outputs": [
    {
     "data": {
      "text/plain": [
       "array([1980.25, 1544.49, 2034.01])"
      ]
     },
     "execution_count": 53,
     "metadata": {},
     "output_type": "execute_result"
    }
   ],
   "source": [
    "poly_features[1][:3] ** 2"
   ]
  },
  {
   "cell_type": "code",
   "execution_count": null,
   "id": "20ab55fb",
   "metadata": {},
   "outputs": [],
   "source": []
  },
  {
   "cell_type": "markdown",
   "id": "ed8eb05d",
   "metadata": {},
   "source": [
    "#### Train Test Split the poly features we created"
   ]
  },
  {
   "cell_type": "code",
   "execution_count": 56,
   "id": "a1da2f69",
   "metadata": {},
   "outputs": [],
   "source": [
    "X_train, X_test, y_train, y_test = train_test_split(poly_features, y, test_size = 0.30, random_state = 42)"
   ]
  },
  {
   "cell_type": "code",
   "execution_count": null,
   "id": "42010ede",
   "metadata": {},
   "outputs": [],
   "source": []
  },
  {
   "cell_type": "markdown",
   "id": "ea8a3e0d",
   "metadata": {},
   "source": [
    "#### Create an instance of the model with parameters"
   ]
  },
  {
   "cell_type": "code",
   "execution_count": 57,
   "id": "5ced83ba",
   "metadata": {},
   "outputs": [],
   "source": [
    "lr = LinearRegression(fit_intercept=True)"
   ]
  },
  {
   "cell_type": "markdown",
   "id": "82577263",
   "metadata": {},
   "source": [
    "#### Fit/Train the Model on the training data\n"
   ]
  },
  {
   "cell_type": "code",
   "execution_count": 59,
   "id": "7724c48e",
   "metadata": {},
   "outputs": [
    {
     "data": {
      "text/plain": [
       "LinearRegression()"
      ]
     },
     "execution_count": 59,
     "metadata": {},
     "output_type": "execute_result"
    }
   ],
   "source": [
    "lr.fit(X_train,y_train)"
   ]
  },
  {
   "cell_type": "markdown",
   "id": "3cc3482a",
   "metadata": {},
   "source": [
    "\n",
    "-----\n",
    "\n",
    "####  Evaluation on the Test Set - Calculate Performance on Test Set"
   ]
  },
  {
   "cell_type": "code",
   "execution_count": 60,
   "id": "d798fa92",
   "metadata": {},
   "outputs": [],
   "source": [
    "predictions = lr.predict(X_test)"
   ]
  },
  {
   "cell_type": "code",
   "execution_count": 110,
   "id": "4c5463e3",
   "metadata": {},
   "outputs": [
    {
     "data": {
      "text/plain": [
       "array([ 0.05478172,  0.01311214,  0.01086391, -0.00011074,  0.00108048,\n",
       "       -0.00010764,  0.00030191,  0.00017541,  0.00010075])"
      ]
     },
     "execution_count": 110,
     "metadata": {},
     "output_type": "execute_result"
    }
   ],
   "source": [
    "lr.coef_"
   ]
  },
  {
   "cell_type": "markdown",
   "id": "b53c3176",
   "metadata": {},
   "source": [
    "#### Metrics to mesure performance"
   ]
  },
  {
   "cell_type": "code",
   "execution_count": 62,
   "id": "44c39815",
   "metadata": {},
   "outputs": [
    {
     "data": {
      "text/plain": [
       "0.5905974833807984"
      ]
     },
     "execution_count": 62,
     "metadata": {},
     "output_type": "execute_result"
    }
   ],
   "source": [
    "MAE = mean_absolute_error(y_test,predictions)\n",
    "MAE"
   ]
  },
  {
   "cell_type": "code",
   "execution_count": 63,
   "id": "b2d89be6",
   "metadata": {},
   "outputs": [
    {
     "data": {
      "text/plain": [
       "0.5231944949055375"
      ]
     },
     "execution_count": 63,
     "metadata": {},
     "output_type": "execute_result"
    }
   ],
   "source": [
    "MSE = mean_squared_error(y_test,predictions)\n",
    "MSE"
   ]
  },
  {
   "cell_type": "code",
   "execution_count": 66,
   "id": "30d0f69d",
   "metadata": {},
   "outputs": [
    {
     "data": {
      "text/plain": [
       "0.7233218473857522"
      ]
     },
     "execution_count": 66,
     "metadata": {},
     "output_type": "execute_result"
    }
   ],
   "source": [
    "RMSE = np.sqrt(MSE)\n",
    "RMSE"
   ]
  },
  {
   "cell_type": "code",
   "execution_count": null,
   "id": "ed89c741",
   "metadata": {},
   "outputs": [],
   "source": []
  },
  {
   "cell_type": "markdown",
   "id": "6d7f35a9",
   "metadata": {},
   "source": [
    "### Build a normal Regression model to compare without the Polynomial features"
   ]
  },
  {
   "cell_type": "code",
   "execution_count": 67,
   "id": "22cc8b2b",
   "metadata": {},
   "outputs": [],
   "source": [
    "X_train, X_test, y_train, y_test = train_test_split(X, y, test_size = 0.30, random_state=42)"
   ]
  },
  {
   "cell_type": "code",
   "execution_count": 68,
   "id": "2e9cf987",
   "metadata": {},
   "outputs": [],
   "source": [
    "lr_normal = LinearRegression()"
   ]
  },
  {
   "cell_type": "code",
   "execution_count": 69,
   "id": "6b5b3d06",
   "metadata": {},
   "outputs": [
    {
     "data": {
      "text/plain": [
       "LinearRegression()"
      ]
     },
     "execution_count": 69,
     "metadata": {},
     "output_type": "execute_result"
    }
   ],
   "source": [
    "lr_normal.fit(X_train, y_train)"
   ]
  },
  {
   "cell_type": "code",
   "execution_count": 70,
   "id": "9dd8176c",
   "metadata": {},
   "outputs": [],
   "source": [
    "predict_lrNormal = lr_normal.predict(X_test)"
   ]
  },
  {
   "cell_type": "code",
   "execution_count": 74,
   "id": "38aa479d",
   "metadata": {},
   "outputs": [],
   "source": [
    "lrNormal_mae = mean_absolute_error(y_test,predict_lrNormal)"
   ]
  },
  {
   "cell_type": "code",
   "execution_count": 75,
   "id": "49ba2e8c",
   "metadata": {},
   "outputs": [],
   "source": [
    "lrNormal_mse = mean_squared_error(y_test,predict_lrNormal)"
   ]
  },
  {
   "cell_type": "code",
   "execution_count": 76,
   "id": "8d9c36c1",
   "metadata": {},
   "outputs": [],
   "source": [
    "lrNormal_rmse = np.sqrt(mean_squared_error(y_test,predict_lrNormal))"
   ]
  },
  {
   "cell_type": "code",
   "execution_count": null,
   "id": "9559f06e",
   "metadata": {},
   "outputs": [],
   "source": []
  },
  {
   "cell_type": "code",
   "execution_count": null,
   "id": "0d92118f",
   "metadata": {},
   "outputs": [],
   "source": []
  },
  {
   "cell_type": "markdown",
   "id": "556e029f",
   "metadata": {},
   "source": [
    "### Build a normal Regression model to compare without the Polynomial features"
   ]
  },
  {
   "cell_type": "code",
   "execution_count": 67,
   "id": "9b2cc35d",
   "metadata": {},
   "outputs": [],
   "source": [
    "X_train, X_test, y_train, y_test = train_test_split(X, y, test_size = 0.30, random_state=42)"
   ]
  },
  {
   "cell_type": "code",
   "execution_count": 68,
   "id": "ac09556c",
   "metadata": {},
   "outputs": [],
   "source": [
    "lr_normal = LinearRegression()"
   ]
  },
  {
   "cell_type": "code",
   "execution_count": 69,
   "id": "c16c819f",
   "metadata": {},
   "outputs": [
    {
     "data": {
      "text/plain": [
       "LinearRegression()"
      ]
     },
     "execution_count": 69,
     "metadata": {},
     "output_type": "execute_result"
    }
   ],
   "source": [
    "lr_normal.fit(X_train, y_train)"
   ]
  },
  {
   "cell_type": "code",
   "execution_count": 70,
   "id": "64c1e74d",
   "metadata": {},
   "outputs": [],
   "source": [
    "predict_lrNormal = lr_normal.predict(X_test)"
   ]
  },
  {
   "cell_type": "code",
   "execution_count": 109,
   "id": "6d4a4cf1",
   "metadata": {},
   "outputs": [
    {
     "data": {
      "text/plain": [
       "array([0.04405928, 0.1992875 , 0.00688245])"
      ]
     },
     "execution_count": 109,
     "metadata": {},
     "output_type": "execute_result"
    }
   ],
   "source": [
    "lr_normal.coef_"
   ]
  },
  {
   "cell_type": "code",
   "execution_count": 74,
   "id": "59893dad",
   "metadata": {},
   "outputs": [],
   "source": [
    "lrNormal_mae = mean_absolute_error(y_test,predict_lrNormal)"
   ]
  },
  {
   "cell_type": "code",
   "execution_count": 75,
   "id": "e4e93ca1",
   "metadata": {},
   "outputs": [],
   "source": [
    "lrNormal_mse = mean_squared_error(y_test,predict_lrNormal)"
   ]
  },
  {
   "cell_type": "code",
   "execution_count": 76,
   "id": "ebb3bd28",
   "metadata": {},
   "outputs": [],
   "source": [
    "lrNormal_rmse = np.sqrt(mean_squared_error(y_test,predict_lrNormal))"
   ]
  },
  {
   "cell_type": "code",
   "execution_count": null,
   "id": "b2b76cf4",
   "metadata": {},
   "outputs": [],
   "source": []
  },
  {
   "cell_type": "markdown",
   "id": "c61096d3",
   "metadata": {},
   "source": [
    "### Build a Regression model with interaction terms to compare without the Polynomial features\n",
    "\n",
    "#### Creating only interaction terms using PolynomialFeatures"
   ]
  },
  {
   "cell_type": "code",
   "execution_count": 96,
   "id": "1f58d528",
   "metadata": {},
   "outputs": [],
   "source": [
    "polynomial_features_only = PolynomialFeatures(interaction_only = True, include_bias=False)\n",
    "\n",
    "poly_features_only = polynomial_features_only.fit_transform(X)\n"
   ]
  },
  {
   "cell_type": "code",
   "execution_count": 97,
   "id": "0a4f16d4",
   "metadata": {},
   "outputs": [
    {
     "data": {
      "text/plain": [
       "(200, 6)"
      ]
     },
     "execution_count": 97,
     "metadata": {},
     "output_type": "execute_result"
    }
   ],
   "source": [
    "poly_features_only.shape"
   ]
  },
  {
   "cell_type": "code",
   "execution_count": 98,
   "id": "2d865f5a",
   "metadata": {},
   "outputs": [],
   "source": [
    "X_train, X_test, y_train, y_test = train_test_split(poly_features_only, y, test_size = 0.30, random_state=42)\n"
   ]
  },
  {
   "cell_type": "code",
   "execution_count": 99,
   "id": "914470fc",
   "metadata": {},
   "outputs": [
    {
     "data": {
      "text/plain": [
       "LinearRegression()"
      ]
     },
     "execution_count": 99,
     "metadata": {},
     "output_type": "execute_result"
    }
   ],
   "source": [
    "lr_interactions = LinearRegression(fit_intercept=True)\n",
    "\n",
    "lr_interactions.fit(X_train, y_train)\n"
   ]
  },
  {
   "cell_type": "code",
   "execution_count": 100,
   "id": "a20214e1",
   "metadata": {},
   "outputs": [
    {
     "data": {
      "text/plain": [
       "LinearRegression()"
      ]
     },
     "execution_count": 100,
     "metadata": {},
     "output_type": "execute_result"
    }
   ],
   "source": [
    "lr_interactions"
   ]
  },
  {
   "cell_type": "code",
   "execution_count": 101,
   "id": "096541e8",
   "metadata": {},
   "outputs": [
    {
     "data": {
      "text/plain": [
       "(60, 6)"
      ]
     },
     "execution_count": 101,
     "metadata": {},
     "output_type": "execute_result"
    }
   ],
   "source": [
    "X_test.shape"
   ]
  },
  {
   "cell_type": "code",
   "execution_count": 103,
   "id": "d9fbbd63",
   "metadata": {},
   "outputs": [],
   "source": [
    "predict_lr_interactions = lr_interactions.predict(X_test)"
   ]
  },
  {
   "cell_type": "code",
   "execution_count": 108,
   "id": "6527b228",
   "metadata": {},
   "outputs": [
    {
     "data": {
      "text/plain": [
       "array([ 2.26995097e-02,  3.44277875e-02,  2.34330840e-02,  1.06905091e-03,\n",
       "       -1.16182932e-04,  2.67343670e-05])"
      ]
     },
     "execution_count": 108,
     "metadata": {},
     "output_type": "execute_result"
    }
   ],
   "source": [
    "lr_interactions.coef_"
   ]
  },
  {
   "cell_type": "code",
   "execution_count": 104,
   "id": "14e8abec",
   "metadata": {},
   "outputs": [],
   "source": [
    "\n",
    "lr_interactions_mae = mean_absolute_error(y_test,predict_lr_interactions)\n",
    "\n",
    "lr_interactions_mse = mean_squared_error(y_test,predict_lr_interactions)\n",
    "\n",
    "lr_interactions_rmse = np.sqrt(mean_squared_error(y_test,predict_lr_interactions))"
   ]
  },
  {
   "cell_type": "code",
   "execution_count": null,
   "id": "0ee55ab0",
   "metadata": {},
   "outputs": [],
   "source": []
  },
  {
   "cell_type": "code",
   "execution_count": null,
   "id": "4848b381",
   "metadata": {},
   "outputs": [],
   "source": []
  },
  {
   "cell_type": "code",
   "execution_count": 111,
   "id": "56277d38",
   "metadata": {},
   "outputs": [],
   "source": [
    "model_compare = pd.DataFrame({\n",
    "                            'Normal Regression': [lrNormal_mae, lrNormal_mse, lrNormal_rmse],\n",
    "                            'Interactions Only': [lr_interactions_mae, lr_interactions_mse,lr_interactions_rmse],\n",
    "                            'Polynomial Results': [MAE,MSE,RMSE]                            \n",
    "                                }, \n",
    "                                index=['MAE', 'MSE', 'RMSE'])"
   ]
  },
  {
   "cell_type": "code",
   "execution_count": 112,
   "id": "d36d4f4d",
   "metadata": {},
   "outputs": [
    {
     "data": {
      "text/html": [
       "<div>\n",
       "<style scoped>\n",
       "    .dataframe tbody tr th:only-of-type {\n",
       "        vertical-align: middle;\n",
       "    }\n",
       "\n",
       "    .dataframe tbody tr th {\n",
       "        vertical-align: top;\n",
       "    }\n",
       "\n",
       "    .dataframe thead th {\n",
       "        text-align: right;\n",
       "    }\n",
       "</style>\n",
       "<table border=\"1\" class=\"dataframe\">\n",
       "  <thead>\n",
       "    <tr style=\"text-align: right;\">\n",
       "      <th></th>\n",
       "      <th>Normal Regression</th>\n",
       "      <th>Interactions Only</th>\n",
       "      <th>Polynomial Results</th>\n",
       "    </tr>\n",
       "  </thead>\n",
       "  <tbody>\n",
       "    <tr>\n",
       "      <th>MAE</th>\n",
       "      <td>1.511669</td>\n",
       "      <td>0.769041</td>\n",
       "      <td>0.590597</td>\n",
       "    </tr>\n",
       "    <tr>\n",
       "      <th>MSE</th>\n",
       "      <td>3.796797</td>\n",
       "      <td>1.007631</td>\n",
       "      <td>0.523194</td>\n",
       "    </tr>\n",
       "    <tr>\n",
       "      <th>RMSE</th>\n",
       "      <td>1.948537</td>\n",
       "      <td>1.003808</td>\n",
       "      <td>0.723322</td>\n",
       "    </tr>\n",
       "  </tbody>\n",
       "</table>\n",
       "</div>"
      ],
      "text/plain": [
       "      Normal Regression  Interactions Only  Polynomial Results\n",
       "MAE            1.511669           0.769041            0.590597\n",
       "MSE            3.796797           1.007631            0.523194\n",
       "RMSE           1.948537           1.003808            0.723322"
      ]
     },
     "execution_count": 112,
     "metadata": {},
     "output_type": "execute_result"
    }
   ],
   "source": [
    "model_compare"
   ]
  },
  {
   "cell_type": "code",
   "execution_count": null,
   "id": "5a46715d",
   "metadata": {},
   "outputs": [],
   "source": []
  },
  {
   "cell_type": "code",
   "execution_count": 113,
   "id": "9bb001d1",
   "metadata": {},
   "outputs": [
    {
     "data": {
      "text/plain": [
       "array([0.04405928, 0.1992875 , 0.00688245])"
      ]
     },
     "execution_count": 113,
     "metadata": {},
     "output_type": "execute_result"
    }
   ],
   "source": [
    "# Normal basic Regression\n",
    "lr_normal.coef_"
   ]
  },
  {
   "cell_type": "code",
   "execution_count": 114,
   "id": "a7ce0b12",
   "metadata": {},
   "outputs": [
    {
     "data": {
      "text/plain": [
       "array([ 2.26995097e-02,  3.44277875e-02,  2.34330840e-02,  1.06905091e-03,\n",
       "       -1.16182932e-04,  2.67343670e-05])"
      ]
     },
     "execution_count": 114,
     "metadata": {},
     "output_type": "execute_result"
    }
   ],
   "source": [
    "# Regression using Feature Interactions\n",
    "lr_interactions.coef_"
   ]
  },
  {
   "cell_type": "code",
   "execution_count": 115,
   "id": "78732039",
   "metadata": {},
   "outputs": [
    {
     "data": {
      "text/plain": [
       "array([ 0.05478172,  0.01311214,  0.01086391, -0.00011074,  0.00108048,\n",
       "       -0.00010764,  0.00030191,  0.00017541,  0.00010075])"
      ]
     },
     "execution_count": 115,
     "metadata": {},
     "output_type": "execute_result"
    }
   ],
   "source": [
    "# Polynomial Degree 2 with Feature Interactions\n",
    "lr.coef_"
   ]
  },
  {
   "cell_type": "code",
   "execution_count": null,
   "id": "a4867a58",
   "metadata": {},
   "outputs": [],
   "source": []
  },
  {
   "cell_type": "code",
   "execution_count": null,
   "id": "f706544b",
   "metadata": {},
   "outputs": [],
   "source": []
  },
  {
   "cell_type": "code",
   "execution_count": null,
   "id": "0fd54342",
   "metadata": {},
   "outputs": [],
   "source": []
  },
  {
   "cell_type": "code",
   "execution_count": null,
   "id": "43c56c10",
   "metadata": {},
   "outputs": [],
   "source": []
  }
 ],
 "metadata": {
  "kernelspec": {
   "display_name": "Python 3 (ipykernel)",
   "language": "python",
   "name": "python3"
  },
  "language_info": {
   "codemirror_mode": {
    "name": "ipython",
    "version": 3
   },
   "file_extension": ".py",
   "mimetype": "text/x-python",
   "name": "python",
   "nbconvert_exporter": "python",
   "pygments_lexer": "ipython3",
   "version": "3.9.13"
  }
 },
 "nbformat": 4,
 "nbformat_minor": 5
}
